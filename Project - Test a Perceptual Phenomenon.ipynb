{
 "cells": [
  {
   "cell_type": "markdown",
   "metadata": {},
   "source": [
    "# Test a Perceptual Phenomenon\n",
    "\n",
    "The following statistical analysis is done on the Stroop effect. In the Stroop task, participants are presented with a list of words, with each word displayed in a color of ink. The participant’s task is to say out loud the color of the ink in which the word is printed. The task has two conditions: a congruent words condition, and an incongruent words condition. In the congruent words condition, the words being displayed are color words whose names match the colors in which they are printed. In the incongruent words condition, the words displayed are color words whose names do not match the colors in which they are printed. In each case, we measure the time it takes to name the ink colors in equally-sized lists. Each participant will go through and record a time from each condition."
   ]
  },
  {
   "cell_type": "markdown",
   "metadata": {},
   "source": [
    "### The Data Set  which contains results from a number of participants in the task"
   ]
  },
  {
   "cell_type": "code",
   "execution_count": 2,
   "metadata": {
    "collapsed": false
   },
   "outputs": [
    {
     "data": {
      "text/html": [
       "<div>\n",
       "<table border=\"1\" class=\"dataframe\">\n",
       "  <thead>\n",
       "    <tr style=\"text-align: right;\">\n",
       "      <th></th>\n",
       "      <th>Congruent</th>\n",
       "      <th>Incongruent</th>\n",
       "    </tr>\n",
       "  </thead>\n",
       "  <tbody>\n",
       "    <tr>\n",
       "      <th>0</th>\n",
       "      <td>12.079</td>\n",
       "      <td>19.278</td>\n",
       "    </tr>\n",
       "    <tr>\n",
       "      <th>1</th>\n",
       "      <td>16.791</td>\n",
       "      <td>18.741</td>\n",
       "    </tr>\n",
       "    <tr>\n",
       "      <th>2</th>\n",
       "      <td>9.564</td>\n",
       "      <td>21.214</td>\n",
       "    </tr>\n",
       "    <tr>\n",
       "      <th>3</th>\n",
       "      <td>8.630</td>\n",
       "      <td>15.687</td>\n",
       "    </tr>\n",
       "    <tr>\n",
       "      <th>4</th>\n",
       "      <td>14.669</td>\n",
       "      <td>22.803</td>\n",
       "    </tr>\n",
       "    <tr>\n",
       "      <th>5</th>\n",
       "      <td>12.238</td>\n",
       "      <td>20.878</td>\n",
       "    </tr>\n",
       "    <tr>\n",
       "      <th>6</th>\n",
       "      <td>14.692</td>\n",
       "      <td>24.572</td>\n",
       "    </tr>\n",
       "    <tr>\n",
       "      <th>7</th>\n",
       "      <td>8.987</td>\n",
       "      <td>17.394</td>\n",
       "    </tr>\n",
       "    <tr>\n",
       "      <th>8</th>\n",
       "      <td>9.401</td>\n",
       "      <td>20.762</td>\n",
       "    </tr>\n",
       "    <tr>\n",
       "      <th>9</th>\n",
       "      <td>14.480</td>\n",
       "      <td>26.282</td>\n",
       "    </tr>\n",
       "    <tr>\n",
       "      <th>10</th>\n",
       "      <td>22.328</td>\n",
       "      <td>24.524</td>\n",
       "    </tr>\n",
       "    <tr>\n",
       "      <th>11</th>\n",
       "      <td>15.298</td>\n",
       "      <td>18.644</td>\n",
       "    </tr>\n",
       "    <tr>\n",
       "      <th>12</th>\n",
       "      <td>15.073</td>\n",
       "      <td>17.510</td>\n",
       "    </tr>\n",
       "    <tr>\n",
       "      <th>13</th>\n",
       "      <td>16.929</td>\n",
       "      <td>20.330</td>\n",
       "    </tr>\n",
       "    <tr>\n",
       "      <th>14</th>\n",
       "      <td>18.200</td>\n",
       "      <td>35.255</td>\n",
       "    </tr>\n",
       "    <tr>\n",
       "      <th>15</th>\n",
       "      <td>12.130</td>\n",
       "      <td>22.158</td>\n",
       "    </tr>\n",
       "    <tr>\n",
       "      <th>16</th>\n",
       "      <td>18.495</td>\n",
       "      <td>25.139</td>\n",
       "    </tr>\n",
       "    <tr>\n",
       "      <th>17</th>\n",
       "      <td>10.639</td>\n",
       "      <td>20.429</td>\n",
       "    </tr>\n",
       "    <tr>\n",
       "      <th>18</th>\n",
       "      <td>11.344</td>\n",
       "      <td>17.425</td>\n",
       "    </tr>\n",
       "    <tr>\n",
       "      <th>19</th>\n",
       "      <td>12.369</td>\n",
       "      <td>34.288</td>\n",
       "    </tr>\n",
       "    <tr>\n",
       "      <th>20</th>\n",
       "      <td>12.944</td>\n",
       "      <td>23.894</td>\n",
       "    </tr>\n",
       "    <tr>\n",
       "      <th>21</th>\n",
       "      <td>14.233</td>\n",
       "      <td>17.960</td>\n",
       "    </tr>\n",
       "    <tr>\n",
       "      <th>22</th>\n",
       "      <td>19.710</td>\n",
       "      <td>22.058</td>\n",
       "    </tr>\n",
       "    <tr>\n",
       "      <th>23</th>\n",
       "      <td>16.004</td>\n",
       "      <td>21.157</td>\n",
       "    </tr>\n",
       "  </tbody>\n",
       "</table>\n",
       "</div>"
      ],
      "text/plain": [
       "    Congruent  Incongruent\n",
       "0      12.079       19.278\n",
       "1      16.791       18.741\n",
       "2       9.564       21.214\n",
       "3       8.630       15.687\n",
       "4      14.669       22.803\n",
       "5      12.238       20.878\n",
       "6      14.692       24.572\n",
       "7       8.987       17.394\n",
       "8       9.401       20.762\n",
       "9      14.480       26.282\n",
       "10     22.328       24.524\n",
       "11     15.298       18.644\n",
       "12     15.073       17.510\n",
       "13     16.929       20.330\n",
       "14     18.200       35.255\n",
       "15     12.130       22.158\n",
       "16     18.495       25.139\n",
       "17     10.639       20.429\n",
       "18     11.344       17.425\n",
       "19     12.369       34.288\n",
       "20     12.944       23.894\n",
       "21     14.233       17.960\n",
       "22     19.710       22.058\n",
       "23     16.004       21.157"
      ]
     },
     "execution_count": 2,
     "metadata": {},
     "output_type": "execute_result"
    }
   ],
   "source": [
    "import pandas\n",
    "df = pandas.read_csv('stroopdata.csv')\n",
    "df"
   ]
  },
  {
   "cell_type": "markdown",
   "metadata": {},
   "source": [
    "### 1. What is our independent variable? What is our dependent variable?\n",
    "\n",
    "The independent variable is whether the condition i.e. if the word is a congruent word or an incongruent word. The dependent variable is the time it takes to name the ink colors."
   ]
  },
  {
   "cell_type": "markdown",
   "metadata": {},
   "source": [
    "### 2. What is an appropriate set of hypotheses for this task? What kind of statistical test do you expect to perform? Justify your choices.\n",
    "\n",
    "#### Ho - Null Hypothesis\n",
    "There is no significant difference in the record time from each condition i.e. congruent words condition and incongruent words condition for all the participants.\n",
    "\n",
    "#### Ha - Alternative Hypothesis\n",
    "There is a significant difference in the record time from each condition i.e. congruent words condition and incongruent words condition for all the participants.\n",
    "\n",
    "#### Statistical Test\n",
    "Statistical test used will be dependent sample two tailed t-test. It will be a dependent sample t-test because samples could be paired. It will be a two tailed t-test because one cannot say about the direction since the participants could read the word conditions faster or slower."
   ]
  },
  {
   "cell_type": "markdown",
   "metadata": {},
   "source": [
    "### 3. Report some descriptive statistics regarding this dataset. Include at least one measure of central tendency and at least one measure of variability."
   ]
  },
  {
   "cell_type": "markdown",
   "metadata": {},
   "source": [
    "#### Congruent Data"
   ]
  },
  {
   "cell_type": "code",
   "execution_count": 54,
   "metadata": {
    "collapsed": false
   },
   "outputs": [
    {
     "name": "stdout",
     "output_type": "stream",
     "text": [
      "Measure of Central Tendancy are:\n",
      "Mean   : 14.051\n",
      "Median : 14.357\n",
      "\n",
      "Measure of Variability are:\n",
      "Range               : 13.698\n",
      "Variance            : 12.669\n",
      "Standard Deviation  : 3.559\n"
     ]
    }
   ],
   "source": [
    "print('Measure of Central Tendancy are:')\n",
    "print('Mean   : ' + str(\"%.3f\" % df['Congruent'].mean()))\n",
    "print('Median : ' + str(\"%.3f\" % df['Congruent'].median()))\n",
    "print('\\nMeasure of Variability are:')\n",
    "print('Range               : ' + str(df['Congruent'].max() - df['Congruent'].min()))\n",
    "print('Variance            : ' + str(\"%.3f\" % df['Congruent'].var()))\n",
    "print('Standard Deviation  : ' + str(\"%.3f\" % df['Congruent'].std()))"
   ]
  },
  {
   "cell_type": "markdown",
   "metadata": {},
   "source": [
    "#### Incongruent Data"
   ]
  },
  {
   "cell_type": "code",
   "execution_count": 53,
   "metadata": {
    "collapsed": false
   },
   "outputs": [
    {
     "name": "stdout",
     "output_type": "stream",
     "text": [
      "Measure of Central Tendancy are:\n",
      "Mean   : 22.016\n",
      "Median : 21.017\n",
      "\n",
      "Measure of Variability are:\n",
      "Range               : 19.568\n",
      "Variance            : 23.012\n",
      "Standard Deviation  : 4.797\n"
     ]
    }
   ],
   "source": [
    "print('Measure of Central Tendancy are:')\n",
    "print('Mean   : ' + str(\"%.3f\" % df['Incongruent'].mean()))\n",
    "print('Median : ' + str(\"%.3f\" % df['Incongruent'].median()))\n",
    "print('\\nMeasure of Variability are:')\n",
    "print('Range               : ' + str(df['Incongruent'].max() - df['Incongruent'].min()))\n",
    "print('Variance            : ' + str(\"%.3f\" % df['Incongruent'].var()))\n",
    "print('Standard Deviation  : ' + str(\"%.3f\" % df['Incongruent'].std()))"
   ]
  },
  {
   "cell_type": "markdown",
   "metadata": {},
   "source": [
    "### 4. Provide one or two visualizations that show the distribution of the sample data. Write one or two sentences noting what you observe about the plot or plots."
   ]
  },
  {
   "cell_type": "code",
   "execution_count": 50,
   "metadata": {
    "collapsed": false
   },
   "outputs": [
    {
     "data": {
      "image/png": "[encoded data removed]",
      "text/plain": [
       "<matplotlib.figure.Figure at 0x207c13ba748>"
      ]
     },
     "metadata": {},
     "output_type": "display_data"
    }
   ],
   "source": [
    "%matplotlib inline\n",
    "ax = df.plot(kind='line', grid=True);\n",
    "ax.set_title('Congruent vs Incongruent condition Participant results');\n",
    "ax.set_xlabel('Inidividual scores');\n",
    "ax.set_ylabel('Seconds to finish');"
   ]
  },
  {
   "cell_type": "code",
   "execution_count": 52,
   "metadata": {
    "collapsed": false
   },
   "outputs": [
    {
     "data": {
      "image/png": "[encoded data removed]",
      "text/plain": [
       "<matplotlib.figure.Figure at 0x207c1634710>"
      ]
     },
     "metadata": {},
     "output_type": "display_data"
    }
   ],
   "source": [
    "df['Difference'] = df['Incongruent'] - df['Congruent']\n",
    "ax = df['Difference'].plot(kind='line', grid=True);\n",
    "ax.set_title('Difference between Congruent and Incongruent time');\n",
    "ax.set_xlabel('Score difference');\n",
    "ax.set_ylabel('Seconds to finish');"
   ]
  },
  {
   "cell_type": "markdown",
   "metadata": {},
   "source": [
    "### 5. Now, perform the statistical test and report your results. What is your confidence level and your critical statistic value? Do you reject the null hypothesis or fail to reject it? Come to a conclusion in terms of the experiment task. Did the results match up with your expectations?"
   ]
  },
  {
   "cell_type": "markdown",
   "metadata": {},
   "source": [
    "* Confidence Level = 90%\n",
    "* Degree of Freedom = 23\n",
    "* T Critical value = +- 1.711"
   ]
  },
  {
   "cell_type": "code",
   "execution_count": 64,
   "metadata": {
    "collapsed": false
   },
   "outputs": [
    {
     "name": "stdout",
     "output_type": "stream",
     "text": [
      "Value of T Statistics is 8.021\n"
     ]
    }
   ],
   "source": [
    "import math\n",
    "std = df['Difference'].std()\n",
    "#Number of samples\n",
    "n = len(df)\n",
    "# Standard Mean Error\n",
    "sem = math.sqrt((std ** 2)/n)\n",
    "# Point Estimate\n",
    "pe = df['Difference'].mean()\n",
    "# T Statistics\n",
    "t = pe/sem\n",
    "print(\"Value of T Statistics is \" + str(\"%.3f\" % t))"
   ]
  },
  {
   "cell_type": "markdown",
   "metadata": {},
   "source": [
    "Since the value of t statistics is greater than value of t critical we reject the null hypothesis. This means that incongruence between colors and words impact our perceptions."
   ]
  }
 ],
 "metadata": {
  "kernelspec": {
   "display_name": "Python 3",
   "language": "python",
   "name": "python3"
  },
  "language_info": {
   "codemirror_mode": {
    "name": "ipython",
    "version": 3
   },
   "file_extension": ".py",
   "mimetype": "text/x-python",
   "name": "python",
   "nbconvert_exporter": "python",
   "pygments_lexer": "ipython3",
   "version": "3.5.1"
  }
 },
 "nbformat": 4,
 "nbformat_minor": 0
}
